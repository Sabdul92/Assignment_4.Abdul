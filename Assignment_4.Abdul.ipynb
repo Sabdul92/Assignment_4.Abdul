{
 "cells": [
  {
   "cell_type": "code",
   "execution_count": null,
   "id": "e11576e7",
   "metadata": {},
   "outputs": [],
   "source": [
    "Q.1) What exactly is []?\n",
    "\n",
    "Ans. The empty list value, which is a list value that contains no items."
   ]
  },
  {
   "cell_type": "code",
   "execution_count": null,
   "id": "fd810691",
   "metadata": {},
   "outputs": [],
   "source": [
    "Q.2) In a list of values stored in a variable called spam, how would you assign the value 'hello' as the third value? \n",
    "    (Assume [2, 4, 6, 8, 10] are in spam.)\n",
    "\n",
    "Ans.\n",
    "spam[2] = 'hello'\n",
    "\n",
    "spam = [2, 4, 6, 8, 10]\n",
    "spam[2] = 'hello' \n",
    "spam\n",
    "[2, 4, 'hello', 8, 10]\n"
   ]
  },
  {
   "cell_type": "code",
   "execution_count": null,
   "id": "d7fed8fc",
   "metadata": {},
   "outputs": [],
   "source": [
    "Let's pretend the spam includes the list ['a', 'b', 'c', 'd'] for the next three queries.\n",
    "\n",
    "Q. No.3)  What is the value of spam[int(int('3' * 2) / 11)]?\n",
    "\n",
    "Ans -\n",
    "spam = ['a', 'b', 'c', 'd']\n",
    "spam[int(int('3' * 2) / 11)]\n",
    "'d'"
   ]
  },
  {
   "cell_type": "code",
   "execution_count": null,
   "id": "a54a9f83",
   "metadata": {},
   "outputs": [],
   "source": [
    "Q.4) What is the value of spam[-1]?\n",
    "\n",
    "Ans.\n",
    "spam[-1]\n",
    "'d'"
   ]
  },
  {
   "cell_type": "code",
   "execution_count": null,
   "id": "3e4ad4a4",
   "metadata": {},
   "outputs": [],
   "source": [
    "Q.5) What is the value of spam[:2]?\n",
    "\n",
    "Ans.\n",
    "spam[:2]\n",
    "['a', 'b']"
   ]
  },
  {
   "cell_type": "code",
   "execution_count": null,
   "id": "7b374d16",
   "metadata": {},
   "outputs": [],
   "source": [
    "Let's pretend bacon has the list [3.14, 'cat', 11, 'cat', True] for the next three questions.\n",
    "\n",
    "Q.6) What is the value of bacon.index('cat')?\n",
    "\n",
    "Ans.\n",
    "bacon = [3.14, 'cat', 11, 'cat', True]\n",
    "\n",
    "\n",
    "bacon.index('cat')\n",
    "1"
   ]
  },
  {
   "cell_type": "code",
   "execution_count": null,
   "id": "423cb0bc",
   "metadata": {},
   "outputs": [],
   "source": [
    "Q.7) What does bacon.append(99) change the look of the list value in bacon?\n",
    "\n",
    "Ans.\n",
    "bacon.append(99)\n",
    "bacon\n",
    "[3.14, 'cat', 11, 'cat', True, 99]\n"
   ]
  },
  {
   "cell_type": "code",
   "execution_count": null,
   "id": "455b125d",
   "metadata": {},
   "outputs": [],
   "source": [
    "Q.8) How does bacon.remove('cat') change the look of the list meaning in bacon?\n",
    "\n",
    "Ans.\n",
    "bacon.remove('cat') \n",
    "bacon\n",
    "[3.14, 11, 'cat', True, 99]\n"
   ]
  },
  {
   "cell_type": "code",
   "execution_count": null,
   "id": "51d59577",
   "metadata": {},
   "outputs": [],
   "source": [
    "Q.9) What are the list concatenation and list replication operators?\n",
    "\n",
    "Ans. The operator for list concatenation is +, while the operator for replication is *.\n",
    "\n"
   ]
  },
  {
   "cell_type": "code",
   "execution_count": null,
   "id": "1e9a50c1",
   "metadata": {},
   "outputs": [],
   "source": [
    "Q.10) What is difference between the list methods append() and insert()?\n",
    "\n",
    "Ans. While append() will add values only to the end of a list, insert() can add them anywhere in the list.\n"
   ]
  },
  {
   "cell_type": "code",
   "execution_count": null,
   "id": "e70eae60",
   "metadata": {},
   "outputs": [],
   "source": [
    "Q.11) What are the two methods for removing items from a list?\n",
    "\n",
    "Ans. The del statement and the remove() and the pop() list method are three ways to remove values from a list.\n"
   ]
  },
  {
   "cell_type": "code",
   "execution_count": null,
   "id": "4c65cb41",
   "metadata": {},
   "outputs": [],
   "source": [
    "Q.12) Describe how list values and string values are identical.\n",
    "\n",
    "Ans. Both lists and strings can be passed to len(), have indexes and slices, be used in for loops,\n",
    "     be concatenated or replicated, and be used with the in and not in operators.\n",
    "-"
   ]
  },
  {
   "cell_type": "code",
   "execution_count": null,
   "id": "7dffbcf1",
   "metadata": {},
   "outputs": [],
   "source": [
    "Q.13) What's the difference between tuples and lists?\n",
    "\n",
    "Ans.  Lists are mutable; they can have values added, removed, or changed. \n",
    "      Tuples are immutable; they cannot be changed at all. Also, tuples are written using parentheses,\n",
    "      ( and ), while lists use the square brackets, [ and ].\n"
   ]
  },
  {
   "cell_type": "code",
   "execution_count": null,
   "id": "3f62e7c4",
   "metadata": {},
   "outputs": [],
   "source": [
    "Q.14) How do you type a tuple value that only contains the integer 42?\n",
    "\n",
    "Ans.\n",
    "(42)\n"
   ]
  },
  {
   "cell_type": "code",
   "execution_count": null,
   "id": "2c8d3976",
   "metadata": {},
   "outputs": [],
   "source": [
    "Q.15) How do you get a list value's tuple form? How do you get a tuple value's list form?\n",
    "\n",
    "Ans.  The tuple() and list() functions, respectively\n"
   ]
  },
  {
   "cell_type": "code",
   "execution_count": null,
   "id": "2d410730",
   "metadata": {},
   "outputs": [],
   "source": [
    "Q.16) Variables that \"contain\" list values are not necessarily lists themselves. Instead, what do they contain?\n",
    "\n",
    "Ans.  They contain references to list values.\n"
   ]
  },
  {
   "cell_type": "code",
   "execution_count": null,
   "id": "ccec10e2",
   "metadata": {},
   "outputs": [],
   "source": [
    "Q.17) How do you distinguish between copy.copy() and copy.deepcopy()?\n",
    "\n",
    "Ans. The copy.copy() function will do a shallow copy of a list, while the copy.deepcopy() function will\n",
    "do a deep copy of a list. That is, only copy.deepcopy() will duplicate any lists inside the list."
   ]
  }
 ],
 "metadata": {
  "kernelspec": {
   "display_name": "Python 3 (ipykernel)",
   "language": "python",
   "name": "python3"
  },
  "language_info": {
   "codemirror_mode": {
    "name": "ipython",
    "version": 3
   },
   "file_extension": ".py",
   "mimetype": "text/x-python",
   "name": "python",
   "nbconvert_exporter": "python",
   "pygments_lexer": "ipython3",
   "version": "3.10.9"
  }
 },
 "nbformat": 4,
 "nbformat_minor": 5
}
